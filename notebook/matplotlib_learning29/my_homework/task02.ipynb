{
 "cells": [
  {
   "cell_type": "markdown",
   "metadata": {
    "collapsed": true
   },
   "source": [
    "# Task02 艺术画笔见乾坤"
   ]
  },
  {
   "cell_type": "markdown",
   "metadata": {},
   "source": [
    "## 1 知识梳理"
   ]
  },
  {
   "cell_type": "markdown",
   "metadata": {},
   "source": [
    "### 1.1 概述\n",
    "\n",
    "- 三层API  \n",
    "  1. 绘图区：`matplotlib.backend_bases.FigureCanvas`  \n",
    "  2. 渲染器：`matplotlib.backend_bases.Renderer`  \n",
    "  3. 图表组件：`matplotlib.artist.Artist`，调用Renderer接口在Canvas上绘图"
   ]
  },
  {
   "cell_type": "markdown",
   "metadata": {},
   "source": [
    "- Artist分类  \n",
    "  1. 基本元素：包括在绘图区绘图时用到的图形对象，曲线Line2D、文字text、矩形Rectangle、图像image等；  \n",
    "  2. 容器：包括图形Figure、坐标系Axes和坐标轴Axis。"
   ]
  },
  {
   "cell_type": "markdown",
   "metadata": {},
   "source": [
    "- 标准使用流程  \n",
    "  1. 创建一个Figure实例  \n",
    "  2. 使用Figure实例创建一个或者多个Axes或Subplot实例  \n",
    "  3. 使用Axes实例的辅助方法创建基本元素"
   ]
  },
  {
   "cell_type": "markdown",
   "metadata": {},
   "source": [
    "### 1.2 primitives（基本元素）"
   ]
  },
  {
   "cell_type": "markdown",
   "metadata": {},
   "source": [
    "#### 1.2.1 Line2D（曲线）\n",
    "\n",
    "- 类：`matplotlib.lines.Line2D`  \n",
    "- 常用参数：\n",
    "    - **xdata**：需要绘制的line中点的在x轴上的取值，若忽略，则默认为range(1,len(ydata)+1)\n",
    "    - **ydata**：需要绘制的line中点的在y轴上的取值\n",
    "    - **linewidth**：线条的宽度\n",
    "    - **linestyle**：线型\n",
    "    - **color**：线条的颜色\n",
    "    - **marker**：点的标记，详细可参考[markers API](https://matplotlib.org/api/markers_api.html#module-matplotlib.markers)\n",
    "    - **markersize**：标记的size  \n",
    "- 设置属性：\n",
    "    - 直接在plot()函数中设置\n",
    "    - 通过线对象进行设置\n",
    "    - 通过线属性，使用setp()函数设置\n",
    "- 绘制lines：\n",
    "    - 绘制直线：`pyplot`方法、Line2D对象\n",
    "    - 绘制误差折线：`errorbar`方法"
   ]
  },
  {
   "cell_type": "markdown",
   "metadata": {},
   "source": [
    "#### 1.2.2 patches（二维图形）\n",
    "\n",
    "- 类：`matplotlib.patches.Patch`\n",
    "- Rectangle（矩形）：\n",
    "  1. hist（直方图）：  \n",
    "    常用参数如下：\n",
    "    - **x**：数据集，最终的直方图将对数据集进行统计\n",
    "    - **bins**：统计的区间分布\n",
    "    - **range**：tuple, 显示的区间，range在没有给出bins时生效\n",
    "    - **density**：bool，默认为false，显示的是频数统计结果，为True则显示频率统计结果，这里需要注意，频率统计结果=区间数目/(总数*区间宽度)，和normed效果一致，官方推荐使用density\n",
    "    - **histtype**：可选{'bar', 'barstacked', 'step', 'stepfilled'}之一，默认为bar，推荐使用默认配置，step使用的是梯状，stepfilled则会对梯状内部进行填充，效果与bar类似\n",
    "    - **align**：可选{'left', 'mid', 'right'}之一，默认为'mid'，控制柱状图的水平分布，left或者right，会有部分空白区域，推荐使用默认\n",
    "    - **log**：bool，默认False,即y坐标轴是否选择指数刻度\n",
    "    - **stacked**：bool，默认为False，是否为堆积状图\n",
    "  2. bar（条形图）：  \n",
    "    常用参数如下：\n",
    "    - **left**：x轴的位置序列，一般采用range函数产生一个序列，但是有时候可以是字符串\n",
    "    - **height**：y轴的数值序列，也就是柱形图的高度，一般就是我们需要展示的数据\n",
    "    - **alpha**：透明度，值越小越透明  \n",
    "    - **width**：为柱形图的宽度，一般这是为0.8即可；  \n",
    "    - **color或facecolor**：柱形图填充的颜色；  \n",
    "    - **edgecolor**：图形边缘颜色   \n",
    "    - **label**：解释每个图像代表的含义，这个参数是为legend()函数做铺垫的，表示该次bar的标签"
   ]
  },
  {
   "cell_type": "markdown",
   "metadata": {},
   "source": [
    "- Polygon（多边形）：  \n",
    "  - 类：`matplotlib.patches.Polygon`  \n",
    "  - `fill`方法：基于xy绘制一个填充的多边形"
   ]
  },
  {
   "cell_type": "markdown",
   "metadata": {},
   "source": [
    "- Wedge（契形）\n",
    "  1. 类：`matplotlib.patches.Wedge`\n",
    "  2. 构造函数：`class matplotlib.patches.Wedge(center, r, theta1, theta2, width=None, **kwargs) `\n",
    "  3. 说明：以坐标$(x,y)$为中心，半径为$r$，从$\\theta_1$扫到$\\theta_2$(单位是度)的契形\n",
    "  4. `matplotlib.pyplot.pie`（饼图）的常用参数：\n",
    "    - **x**：契型的形状，一维数组。\n",
    "    - **explode**：如果不是等于None，则是一个len(x)数组，它指定用于偏移每个楔形块的半径的分数。  \n",
    "    - **labels**：用于指定每个契型块的标记，取值是列表或为None。  \n",
    "    - **colors**：饼图循环使用的颜色序列。如果取值为None，将使用当前活动循环中的颜色。  \n",
    "    - **startangle**：饼状图开始的绘制的角度。 "
   ]
  },
  {
   "cell_type": "markdown",
   "metadata": {},
   "source": [
    "#### 1.2.3 collections（对象集合）\n",
    "\n",
    "- 用途：绘制一组对象的集合\n",
    "- scatter（散点图）构造函数：\n",
    "> Axes.scatter(self, x, y, s=None, c=None, marker=None, cmap=None, norm=None, vmin=None, vmax=None, alpha=None, linewidths=None, verts=<deprecated parameter>, edgecolors=None, *, plotnonfinite=False, data=None, **kwargs)\n",
    "- scatter（散点图）常用参数：\n",
    "    - **x**：数据点x轴的位置  \n",
    "    - **y**：数据点y轴的位置  \n",
    "    - **s**：尺寸大小  \n",
    "    - **c**：可以是单个颜色格式的字符串，也可以是一系列颜色  \n",
    "    - **marker**: 标记的类型     "
   ]
  },
  {
   "cell_type": "markdown",
   "metadata": {},
   "source": [
    "#### 1.2.4 images\n",
    "\n",
    "- 用途：绘制image图像\n",
    "- imshow函数：\n",
    "> matplotlib.pyplot.imshow(X, cmap=None, norm=None, aspect=None, interpolation=None, alpha=None, vmin=None, vmax=None, origin=None, extent=None, shape=<deprecated parameter>, filternorm=1, filterrad=4.0, imlim=<deprecated parameter>, resample=None, url=None, *, data=None, **kwargs）"
   ]
  },
  {
   "cell_type": "markdown",
   "metadata": {},
   "source": [
    "### 1.3 Object Container（对象容器）"
   ]
  },
  {
   "cell_type": "markdown",
   "metadata": {},
   "source": [
    "#### 1.3.1 Figure容器\n",
    "\n",
    "- `matplotlib.figure.Figure`是最顶层的对象容器\n",
    "- 一张图表的背景就是`Figure.patch`的一个矩形\n",
    "- 常见属性：\n",
    "    - `Figure.patch`属性：Figure的背景矩形  \n",
    "    - `Figure.axes`属性：一个Axes实例的列表（包括Subplot)  \n",
    "    - `Figure.images`属性：一个FigureImages patch列表  \n",
    "    - `Figure.lines`属性：一个Line2D实例的列表（很少使用）  \n",
    "    - `Figure.legends`属性：一个Figure Legend实例列表（不同于Axes.legends)  \n",
    "    - `Figure.texts`属性：一个Figure Text实例列表  "
   ]
  },
  {
   "cell_type": "markdown",
   "metadata": {},
   "source": [
    "#### 1.3.2 Axes容器\n",
    "\n",
    "- 可以通过Figure.add_axes(\\[left,bottom,width,height\\])来创建一个任意区域的Axes\n",
    "- `ax.xaxis`：XAxis对象的实例，用于处理x轴tick以及label的绘制  \n",
    "- `ax.yaxis`：YAxis对象的实例，用于处理y轴tick以及label的绘制\n",
    "- 常见属性：\n",
    "  - `artists`：Artist实例列表\n",
    "  - `patch`:：Axes所在的矩形实例\n",
    "  - `collections`：Collection实例\n",
    "  - `images`：Axes图像\n",
    "  - `legends`：Legend 实例\n",
    "  - `lines`：Line2D 实例\n",
    "  - `patches`：Patch 实例\n",
    "  - `texts`：Text 实例\n",
    "  - `xaxis`：matplotlib.axis.XAxis 实例\n",
    "  - `yaxis`：matplotlib.axis.YAxis 实例"
   ]
  },
  {
   "cell_type": "markdown",
   "metadata": {},
   "source": [
    "#### 1.3.3 Axis容器\n",
    "\n",
    "- 用途：处理`tick line`、`grid line`、`tick label`以及`axis label`的绘制\n",
    "- 常用方法：\n",
    "  - `get_ticklocs()`：获取刻度线位置\n",
    "  - `get_ticklabels()`：获取刻度label列表(一个Text实例的列表）。可以通过minor=True|False关键字参数控制输出minor还是major的tick label。\n",
    "  - `get_ticklines()`：获取刻度线列表(一个Line2D实例的列表）。可以通过minor=True|False关键字参数控制输出minor还是major的tick line。\n",
    "  - `get_data_interval()`：获取轴刻度间隔\n",
    "  - `get_view_interval()`：获取轴视角（位置）的间隔"
   ]
  },
  {
   "cell_type": "markdown",
   "metadata": {},
   "source": [
    "#### 1.3.4 Tick容器\n",
    "\n",
    "- 常见属性：\n",
    "  - `Tick.tick1line`：Line2D实例  \n",
    "  - `Tick.tick2line`：Line2D实例  \n",
    "  - `Tick.gridline`：Line2D实例  \n",
    "  - `Tick.label1`：Text实例  \n",
    "  - `Tick.label2`：Text实例  \n",
    "- 说明：\n",
    "  - y轴分为左右两个，因此`tick1`对应左侧的轴；`tick2`对应右侧的轴。   \n",
    "  - x轴分为上下两个，因此`tick1`对应下侧的轴；`tick2`对应上侧的轴。"
   ]
  },
  {
   "cell_type": "markdown",
   "metadata": {},
   "source": [
    "## 2 实战练习"
   ]
  },
  {
   "cell_type": "markdown",
   "metadata": {},
   "source": [
    "### 2.1 通过Rectangle绘制直方图"
   ]
  },
  {
   "cell_type": "code",
   "execution_count": 27,
   "metadata": {},
   "outputs": [],
   "source": [
    "import pandas as pd\n",
    "import re\n",
    "\n",
    "# 生成[0-100)之间的100个数据,即 数据集\n",
    "x = np.random.randint(0, 100, 100)\n",
    "# 设置连续的边界值，即直方图的分布区间[0,10),[10,20)...\n",
    "bins = np.arange(0, 101, 10)\n",
    "\n",
    "df = pd.DataFrame(columns=['data'])\n",
    "df.loc[:, 'data'] = x\n",
    "# 区间构造，得到data的区间分组\n",
    "df['fenzu'] = pd.cut(df['data'], bins=bins, right=False, include_lowest=True)\n",
    "\n",
    "# 按照区间进行统计\n",
    "df_cnt = df['fenzu'].value_counts().reset_index()\n",
    "# 得到每个区间的最大值和最小值，即边界值\n",
    "df_cnt.loc[:, 'mini'] = df_cnt['index'].astype(str).map(\n",
    "    lambda x: re.findall('\\[(.*)\\,', x)[0]).astype(int)\n",
    "df_cnt.loc[:, 'maxi'] = df_cnt['index'].astype(str).map(\n",
    "    lambda x: re.findall('\\,(.*)\\)', x)[0]).astype(int)\n",
    "# 得到区间的宽度\n",
    "df_cnt.loc[:, 'width'] = df_cnt['maxi'] - df_cnt['mini']\n",
    "# 按照最小值进行区间排序\n",
    "df_cnt.sort_values('mini', ascending=True, inplace=True)\n",
    "# 重新索引，删除原索引\n",
    "df_cnt.reset_index(inplace=True, drop=True)"
   ]
  },
  {
   "cell_type": "code",
   "execution_count": 28,
   "metadata": {
    "scrolled": true
   },
   "outputs": [
    {
     "data": {
      "text/html": [
       "<div>\n",
       "<style scoped>\n",
       "    .dataframe tbody tr th:only-of-type {\n",
       "        vertical-align: middle;\n",
       "    }\n",
       "\n",
       "    .dataframe tbody tr th {\n",
       "        vertical-align: top;\n",
       "    }\n",
       "\n",
       "    .dataframe thead th {\n",
       "        text-align: right;\n",
       "    }\n",
       "</style>\n",
       "<table border=\"1\" class=\"dataframe\">\n",
       "  <thead>\n",
       "    <tr style=\"text-align: right;\">\n",
       "      <th></th>\n",
       "      <th>index</th>\n",
       "      <th>fenzu</th>\n",
       "      <th>mini</th>\n",
       "      <th>maxi</th>\n",
       "      <th>width</th>\n",
       "    </tr>\n",
       "  </thead>\n",
       "  <tbody>\n",
       "    <tr>\n",
       "      <th>0</th>\n",
       "      <td>[0, 10)</td>\n",
       "      <td>13</td>\n",
       "      <td>0</td>\n",
       "      <td>10</td>\n",
       "      <td>10</td>\n",
       "    </tr>\n",
       "    <tr>\n",
       "      <th>1</th>\n",
       "      <td>[10, 20)</td>\n",
       "      <td>14</td>\n",
       "      <td>10</td>\n",
       "      <td>20</td>\n",
       "      <td>10</td>\n",
       "    </tr>\n",
       "    <tr>\n",
       "      <th>2</th>\n",
       "      <td>[20, 30)</td>\n",
       "      <td>14</td>\n",
       "      <td>20</td>\n",
       "      <td>30</td>\n",
       "      <td>10</td>\n",
       "    </tr>\n",
       "    <tr>\n",
       "      <th>3</th>\n",
       "      <td>[30, 40)</td>\n",
       "      <td>9</td>\n",
       "      <td>30</td>\n",
       "      <td>40</td>\n",
       "      <td>10</td>\n",
       "    </tr>\n",
       "    <tr>\n",
       "      <th>4</th>\n",
       "      <td>[40, 50)</td>\n",
       "      <td>2</td>\n",
       "      <td>40</td>\n",
       "      <td>50</td>\n",
       "      <td>10</td>\n",
       "    </tr>\n",
       "    <tr>\n",
       "      <th>5</th>\n",
       "      <td>[50, 60)</td>\n",
       "      <td>9</td>\n",
       "      <td>50</td>\n",
       "      <td>60</td>\n",
       "      <td>10</td>\n",
       "    </tr>\n",
       "    <tr>\n",
       "      <th>6</th>\n",
       "      <td>[60, 70)</td>\n",
       "      <td>11</td>\n",
       "      <td>60</td>\n",
       "      <td>70</td>\n",
       "      <td>10</td>\n",
       "    </tr>\n",
       "    <tr>\n",
       "      <th>7</th>\n",
       "      <td>[70, 80)</td>\n",
       "      <td>12</td>\n",
       "      <td>70</td>\n",
       "      <td>80</td>\n",
       "      <td>10</td>\n",
       "    </tr>\n",
       "    <tr>\n",
       "      <th>8</th>\n",
       "      <td>[80, 90)</td>\n",
       "      <td>4</td>\n",
       "      <td>80</td>\n",
       "      <td>90</td>\n",
       "      <td>10</td>\n",
       "    </tr>\n",
       "    <tr>\n",
       "      <th>9</th>\n",
       "      <td>[90, 100)</td>\n",
       "      <td>12</td>\n",
       "      <td>90</td>\n",
       "      <td>100</td>\n",
       "      <td>10</td>\n",
       "    </tr>\n",
       "  </tbody>\n",
       "</table>\n",
       "</div>"
      ],
      "text/plain": [
       "       index  fenzu  mini  maxi  width\n",
       "0    [0, 10)     13     0    10     10\n",
       "1   [10, 20)     14    10    20     10\n",
       "2   [20, 30)     14    20    30     10\n",
       "3   [30, 40)      9    30    40     10\n",
       "4   [40, 50)      2    40    50     10\n",
       "5   [50, 60)      9    50    60     10\n",
       "6   [60, 70)     11    60    70     10\n",
       "7   [70, 80)     12    70    80     10\n",
       "8   [80, 90)      4    80    90     10\n",
       "9  [90, 100)     12    90   100     10"
      ]
     },
     "execution_count": 28,
     "metadata": {},
     "output_type": "execute_result"
    }
   ],
   "source": [
    "df_cnt"
   ]
  },
  {
   "cell_type": "code",
   "execution_count": 36,
   "metadata": {
    "scrolled": true
   },
   "outputs": [
    {
     "data": {
      "image/png": "[encoded data removed]",
      "text/plain": [
       "<Figure size 432x288 with 1 Axes>"
      ]
     },
     "metadata": {
      "needs_background": "light"
     },
     "output_type": "display_data"
    }
   ],
   "source": [
    "import matplotlib.pyplot as plt\n",
    "\n",
    "fig, ax = plt.subplots()\n",
    "\n",
    "for i in df_cnt.index:\n",
    "    rect = plt.Rectangle((df_cnt.loc[i, 'mini'], 0), df_cnt.loc[i, 'width'],\n",
    "                         df_cnt.loc[i, 'fenzu'])\n",
    "    ax.add_patch(rect)\n",
    "\n",
    "ax.set_xlim(0, 100)\n",
    "ax.set_ylim(0, 16)\n",
    "plt.show()"
   ]
  },
  {
   "cell_type": "markdown",
   "metadata": {},
   "source": [
    "### 2.2 通过Rectangle绘制bar柱状图"
   ]
  },
  {
   "cell_type": "code",
   "execution_count": 66,
   "metadata": {
    "scrolled": false
   },
   "outputs": [
    {
     "data": {
      "image/png": "[encoded data removed]",
      "text/plain": [
       "<Figure size 432x288 with 1 Axes>"
      ]
     },
     "metadata": {
      "needs_background": "light"
     },
     "output_type": "display_data"
    }
   ],
   "source": [
    "fig, ax = plt.subplots()\n",
    "\n",
    "for i in range(0, 17):\n",
    "    rect = plt.Rectangle((i - 1.25, 0), 0.5, i,\n",
    "                         edgecolor='red', facecolor='yellow', lw=3, alpha=0.5)\n",
    "    ax.add_patch(rect)\n",
    "\n",
    "ax.set_xlim(-1, 16)\n",
    "ax.set_ylim(0, 17)\n",
    "plt.show()"
   ]
  },
  {
   "cell_type": "markdown",
   "metadata": {},
   "source": [
    "### 2.3 通过Wedge绘制饼图"
   ]
  },
  {
   "cell_type": "code",
   "execution_count": 158,
   "metadata": {
    "scrolled": false
   },
   "outputs": [
    {
     "data": {
      "image/png": "[encoded data removed]",
      "text/plain": [
       "<Figure size 432x288 with 1 Axes>"
      ]
     },
     "metadata": {
      "needs_background": "light"
     },
     "output_type": "display_data"
    }
   ],
   "source": [
    "import matplotlib.pyplot as plt\n",
    "import matplotlib as mpl\n",
    "from matplotlib.patches import Circle, Wedge\n",
    "from matplotlib.collections import PatchCollection\n",
    "\n",
    "# 得到饼图颜色\n",
    "prop_cycler = mpl.rcParams['axes.prop_cycle']\n",
    "facecolors = [m['color'] for m in prop_cycler][:4]\n",
    "\n",
    "fig, ax = plt.subplots()\n",
    "sizes = [15, 30, 45, 10] \n",
    "patches = []\n",
    "patches += [\n",
    "    Wedge((0.5, 0.5), .4, 90, 144, facecolor=facecolors[0]),\n",
    "    Wedge((.475, .495), .4, 144, 252, facecolor=facecolors[1]),\n",
    "    Wedge((.5, .5), .4, 252, 54, facecolor=facecolors[2]),   \n",
    "    Wedge((.5, .5), .4, 54, 90, facecolor=facecolors[3]),\n",
    "]\n",
    "p = PatchCollection(patches, match_original=True)\n",
    "ax.add_collection(p)\n",
    "\n",
    "plt.axis('off')\n",
    "plt.show()"
   ]
  },
  {
   "cell_type": "markdown",
   "metadata": {},
   "source": [
    "## 3 课后习题"
   ]
  },
  {
   "cell_type": "markdown",
   "metadata": {},
   "source": [
    "### 3.1 思考题1\n",
    "primitives 和 container的区别和联系是什么？"
   ]
  },
  {
   "cell_type": "markdown",
   "metadata": {},
   "source": [
    "**解答：**"
   ]
  },
  {
   "cell_type": "markdown",
   "metadata": {},
   "source": [
    "联系：\n",
    "1. container包含primitives，包括Line2D曲线、Text文字、Patches、collections、image图像等\n",
    "2. container和primitives都可以设置属性，用于绘制图形\n",
    "3. container和primitives的基类都是`matplotlib.artist.Artist`\n",
    "4. Axes container可使用多种方法创建primitives基本元素"
   ]
  },
  {
   "cell_type": "markdown",
   "metadata": {},
   "source": [
    "区别：\n",
    "1. primitives只能控制自身元素的属性，通过设置属性，展示不同图形的效果\n",
    "2. container不能控制基本元素，仅能使用添加/删除元素的方法"
   ]
  },
  {
   "cell_type": "markdown",
   "metadata": {},
   "source": [
    "### 3.2 思考题2\n",
    "\n",
    "四个容器的联系和区别是什么？他们分别控制一张图表的哪些要素？"
   ]
  },
  {
   "cell_type": "markdown",
   "metadata": {},
   "source": [
    "**解答：**"
   ]
  },
  {
   "cell_type": "markdown",
   "metadata": {},
   "source": [
    "联系：\n",
    "1. 基类都是`matplotlib.artist.Artist`\n",
    "2. 包含关系：Figure容器 $\\supseteq$ Axes容器 $\\supseteq$ Axis容器 $\\supseteq$ Tick容器\n",
    "3. Figure容器和Axes容器都有`patch`、`images`、`lines`、`legends`和`texts`属性"
   ]
  },
  {
   "cell_type": "markdown",
   "metadata": {},
   "source": [
    "区别和控制对象：\n",
    "1. Figure容器：控制Axes和subplot对象，包括背景、Axes实例列表、Figure Images patch列表、Line2D实例列表、Figure Legend实例列表和Figure Text实例列表\n",
    "2. Axes容器：存放用于绘图的Artist对象，控制patch元素，包括绘图区域的形状、背景和边框\n",
    "3. Axis容器：处理`tick line`、`grid line`、`tick label`以及`axis label`的绘制，控制坐标轴上的刻度线、刻度`label`、坐标网格、坐标轴标题\n",
    "4. Tick容器：控制`tick`、`grid line`实例以及对应的`label`对象"
   ]
  },
  {
   "cell_type": "markdown",
   "metadata": {},
   "source": [
    "### 3.3 绘图题1"
   ]
  },
  {
   "cell_type": "markdown",
   "metadata": {},
   "source": [
    "绘制下图，要求如下：\n",
    "1. 使用提供的drug数据集，画出下面折线图\n",
    "2. PA加粗标黄，其他为灰色\n",
    "3. 图的标题和横纵坐标轴的标题，以及线的文本暂不做要求。  \n",
    "    \n",
    "![](https://img-blog.csdnimg.cn/20210523162430365.png)"
   ]
  },
  {
   "cell_type": "markdown",
   "metadata": {},
   "source": [
    "### 3.4 绘图题2\n",
    "\n",
    "分别用一组长方形柱和填充面积的方式模仿画出下图，函数 $y = -1 \\cdot (x - 2) \\cdot (x - 8) +10$ 在区间$[2,9]$的积分面积\n",
    "![](https://img-blog.csdnimg.cn/20201126105910781.png)\n",
    "![](https://img-blog.csdnimg.cn/20201126105910780.png)"
   ]
  },
  {
   "cell_type": "markdown",
   "metadata": {},
   "source": [
    "## 4 总结"
   ]
  },
  {
   "cell_type": "markdown",
   "metadata": {},
   "source": [
    "&emsp;&emsp;本次任务，主要介绍了概述、基本元素（primitives）和对象容器（container）；概述部分主要讲解了Artist的分类和matplotlib标准使用流程；基本元素部分详细介绍了曲线（Line2D）、二维图形（patches）、集合类（collections）和图像（images）；对象容器部分详细讲解了4大容器，包括常见属性和相关方法的使用；基本上，可以通过上述的内容，了解并能够绘制基本的图形，并达到数据可视化的效果展示。"
   ]
  }
 ],
 "metadata": {
  "kernelspec": {
   "display_name": "Python 3",
   "language": "python",
   "name": "python3"
  },
  "language_info": {
   "codemirror_mode": {
    "name": "ipython",
    "version": 3
   },
   "file_extension": ".py",
   "mimetype": "text/x-python",
   "name": "python",
   "nbconvert_exporter": "python",
   "pygments_lexer": "ipython3",
   "version": "3.7.9"
  },
  "toc": {
   "base_numbering": 1,
   "nav_menu": {},
   "number_sections": false,
   "sideBar": true,
   "skip_h1_title": false,
   "title_cell": "Table of Contents",
   "title_sidebar": "Contents",
   "toc_cell": false,
   "toc_position": {
    "height": "calc(100% - 180px)",
    "left": "10px",
    "top": "150px",
    "width": "261px"
   },
   "toc_section_display": true,
   "toc_window_display": false
  }
 },
 "nbformat": 4,
 "nbformat_minor": 1
}
